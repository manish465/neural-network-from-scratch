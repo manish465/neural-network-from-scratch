{
 "cells": [
  {
   "cell_type": "markdown",
   "id": "6c952a2f",
   "metadata": {},
   "source": [
    "### `zip()`"
   ]
  },
  {
   "cell_type": "markdown",
   "id": "7a312989",
   "metadata": {},
   "source": [
    "In Python, `zip()` is a built-in function that **aggregates elements from multiple iterables (like lists or tuples)** into tuples, **element-wise**.\n",
    "\n",
    "### Basic Idea:\n",
    "\n",
    "```python\n",
    "zip(iterable1, iterable2, ...)\n",
    "```\n",
    "\n",
    "It returns an **iterator** of tuples, where the i-th tuple contains the i-th element from each of the input iterables.\n",
    "\n",
    "---\n",
    "\n",
    "### Example:\n",
    "\n",
    "```python\n",
    "names = ['Alice', 'Bob', 'Charlie']\n",
    "scores = [85, 90, 95]\n",
    "\n",
    "zipped = zip(names, scores)\n",
    "print(list(zipped))\n",
    "```\n",
    "\n",
    "**Output:**\n",
    "\n",
    "```\n",
    "[('Alice', 85), ('Bob', 90), ('Charlie', 95)]\n",
    "```\n",
    "\n",
    "---\n",
    "\n",
    "### Key Points:\n",
    "\n",
    "1. **Shortest Length Rule**:\n",
    "   It stops at the shortest iterable.\n",
    "\n",
    "   ```python\n",
    "   zip([1, 2], [3, 4, 5]) ➝ [(1, 3), (2, 4)]\n",
    "   ```\n",
    "\n",
    "2. **Unzipping**:\n",
    "   You can unzip a zipped object using `*` operator:\n",
    "\n",
    "   ```python\n",
    "   zipped = [('a', 1), ('b', 2)]\n",
    "   letters, numbers = zip(*zipped)\n",
    "   print(letters)  # ('a', 'b')\n",
    "   print(numbers)  # (1, 2)\n",
    "   ```\n",
    "\n",
    "3. **Lazy Evaluation**:\n",
    "   `zip()` returns a generator-like object (zip object), so it's memory efficient.\n",
    "\n",
    "---\n",
    "\n",
    "### Use Cases:\n",
    "\n",
    "* Pairing items from multiple lists\n",
    "* Transposing matrices\n",
    "* Iterating through multiple lists in parallel\n",
    "* Grouping data by position"
   ]
  },
  {
   "cell_type": "markdown",
   "id": "15fa9f0a",
   "metadata": {},
   "source": []
  }
 ],
 "metadata": {
  "language_info": {
   "name": "python"
  }
 },
 "nbformat": 4,
 "nbformat_minor": 5
}
