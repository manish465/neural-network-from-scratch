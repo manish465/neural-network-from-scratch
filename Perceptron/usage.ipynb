{
 "cells": [
  {
   "cell_type": "markdown",
   "id": "d1b5a3a3",
   "metadata": {},
   "source": [
    "A **Perceptron** is the most basic unit of a neural network — it's a simplified model of how a single neuron in the brain works, used in artificial intelligence and machine learning. It was introduced by **Frank Rosenblatt in 1958**.\n",
    "\n",
    "---\n",
    "\n",
    "## 🧠 What is a Perceptron?\n",
    "\n",
    "A **Perceptron**:\n",
    "\n",
    "* Takes **multiple input values** (features),\n",
    "* Multiplies each by a **weight**,\n",
    "* Adds a **bias**,\n",
    "* Passes the result through an **activation function** (usually a step function or sign function),\n",
    "* And produces a **single output** (usually 0 or 1).\n",
    "\n",
    "---\n",
    "\n",
    "## 🧮 Mathematical Formula:\n",
    "\n",
    "For inputs: `x1, x2, ..., xn`\n",
    "Weights: `w1, w2, ..., wn`\n",
    "Bias: `b`\n",
    "Then the **output** is:\n",
    "\n",
    "```\n",
    "output = activation(w1*x1 + w2*x2 + ... + wn*xn + b)\n",
    "```\n",
    "\n",
    "Or in vector form:\n",
    "\n",
    "```\n",
    "output = activation(w · x + b)\n",
    "```\n",
    "\n",
    "---\n",
    "\n",
    "## 🔧 Activation Function (Classic Perceptron):\n",
    "\n",
    "Typically, the **step function**:\n",
    "\n",
    "```python\n",
    "def step_function(x):\n",
    "    return 1 if x >= 0 else 0\n",
    "```\n",
    "\n",
    "So the perceptron is essentially a **linear binary classifier**.\n",
    "\n",
    "---\n",
    "\n",
    "## ✅ Example:\n",
    "\n",
    "Suppose we want to model a simple logic gate like **AND**:\n",
    "\n",
    "```python\n",
    "inputs = [1, 1]\n",
    "weights = [1, 1]\n",
    "bias = -1.5\n",
    "\n",
    "output = step_function(1*1 + 1*1 - 1.5)  # = step(0.5) ➝ 1\n",
    "```\n",
    "\n",
    "This correctly predicts `1 AND 1 = 1`.\n",
    "\n",
    "---\n",
    "\n",
    "## 🔁 Learning:\n",
    "\n",
    "A perceptron learns using an update rule:\n",
    "\n",
    "```\n",
    "w = w + α * (target - output) * x\n",
    "```\n",
    "\n",
    "Where:\n",
    "\n",
    "* `α` is the learning rate,\n",
    "* `target` is the expected output,\n",
    "* `output` is the predicted output,\n",
    "* `x` is the input vector.\n",
    "\n",
    "It adjusts weights to minimize classification error.\n",
    "\n",
    "---\n",
    "\n",
    "## ⚠️ Limitations:\n",
    "\n",
    "* Can only classify **linearly separable data**.\n",
    "* Cannot solve problems like **XOR**, which are **not linearly separable**.\n",
    "\n",
    "> This led to early skepticism about neural networks until **multi-layer perceptrons (MLPs)** and **backpropagation** were introduced, which enabled learning **non-linear functions**.\n",
    "\n",
    "---\n",
    "\n",
    "## 🧱 TL;DR:\n",
    "\n",
    "* **Perceptron** = a single neuron model.\n",
    "* **Inputs + weights + bias → activation → output**\n",
    "* Good for **linear** classification tasks.\n",
    "* Foundation of deeper models like **neural networks**, **CNNs**, and **transformers**.\n"
   ]
  },
  {
   "cell_type": "code",
   "execution_count": 1,
   "id": "aafff46d",
   "metadata": {},
   "outputs": [],
   "source": [
    "import numpy as np"
   ]
  },
  {
   "cell_type": "code",
   "execution_count": 2,
   "id": "77ed4d27",
   "metadata": {},
   "outputs": [],
   "source": [
    "X = np.array([\n",
    "    [0, 0],\n",
    "    [0, 1],\n",
    "    [1, 0],\n",
    "    [1, 1],\n",
    "])\n",
    "\n",
    "y = np.array([0, 1, 1, 1])"
   ]
  },
  {
   "cell_type": "code",
   "execution_count": null,
   "id": "13636811",
   "metadata": {},
   "outputs": [],
   "source": [
    "from model import Perceptron"
   ]
  },
  {
   "cell_type": "code",
   "execution_count": 4,
   "id": "940e464a",
   "metadata": {},
   "outputs": [
    {
     "name": "stdout",
     "output_type": "stream",
     "text": [
      "[0 0] => 0\n",
      "[0 1] => 1\n",
      "[1 0] => 1\n",
      "[1 1] => 1\n"
     ]
    }
   ],
   "source": [
    "model = Perceptron(input_size=2)\n",
    "model.train(X, y, epochs=10)\n",
    "\n",
    "for xi in X:\n",
    "    print(f\"{xi} => {model.predict(xi)}\")"
   ]
  },
  {
   "cell_type": "code",
   "execution_count": null,
   "id": "7c187a1b",
   "metadata": {},
   "outputs": [],
   "source": []
  }
 ],
 "metadata": {
  "kernelspec": {
   "display_name": "hfenv",
   "language": "python",
   "name": "python3"
  },
  "language_info": {
   "codemirror_mode": {
    "name": "ipython",
    "version": 3
   },
   "file_extension": ".py",
   "mimetype": "text/x-python",
   "name": "python",
   "nbconvert_exporter": "python",
   "pygments_lexer": "ipython3",
   "version": "3.10.16"
  }
 },
 "nbformat": 4,
 "nbformat_minor": 5
}
