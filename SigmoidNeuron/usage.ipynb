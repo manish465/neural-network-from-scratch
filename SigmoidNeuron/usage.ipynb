{
 "cells": [
  {
   "cell_type": "code",
   "execution_count": 30,
   "id": "aafff46d",
   "metadata": {},
   "outputs": [],
   "source": [
    "import numpy as np"
   ]
  },
  {
   "cell_type": "code",
   "execution_count": 31,
   "id": "77ed4d27",
   "metadata": {},
   "outputs": [],
   "source": [
    "X = np.array([\n",
    "    [0, 0],\n",
    "    [0, 1],\n",
    "    [1, 0],\n",
    "    [1, 1],\n",
    "])\n",
    "\n",
    "y = np.array([0, 1, 1, 0])  # XOR logic, can't be solved by 1-layer"
   ]
  },
  {
   "cell_type": "code",
   "execution_count": 32,
   "id": "13636811",
   "metadata": {},
   "outputs": [],
   "source": [
    "from model import SigmoidNeuron"
   ]
  },
  {
   "cell_type": "code",
   "execution_count": 33,
   "id": "940e464a",
   "metadata": {},
   "outputs": [
    {
     "name": "stdout",
     "output_type": "stream",
     "text": [
      "Epoch 0: Loss=0.5978\n",
      "Epoch 100: Loss=0.9993\n",
      "Epoch 200: Loss=1.0000\n",
      "Epoch 300: Loss=1.0000\n",
      "Epoch 400: Loss=1.0000\n",
      "Epoch 500: Loss=1.0000\n",
      "Epoch 600: Loss=1.0000\n",
      "Epoch 700: Loss=1.0000\n",
      "Epoch 800: Loss=1.0000\n",
      "Epoch 900: Loss=1.0000\n",
      "[0 0] => 1.214629996250097e-81\n",
      "[0 1] => 3.994304512768124e-121\n",
      "[1 0] => 1.0387305667020282e-122\n",
      "[1 1] => 3.4158601408966075e-162\n"
     ]
    }
   ],
   "source": [
    "model = SigmoidNeuron(input_size=2)\n",
    "model.train(X, y, epochs=1000)\n",
    "\n",
    "for xi in X:\n",
    "    print(f\"{xi} => {model.predict(xi)}\")"
   ]
  },
  {
   "cell_type": "code",
   "execution_count": null,
   "id": "7c187a1b",
   "metadata": {},
   "outputs": [],
   "source": []
  }
 ],
 "metadata": {
  "kernelspec": {
   "display_name": "hfenv",
   "language": "python",
   "name": "python3"
  },
  "language_info": {
   "codemirror_mode": {
    "name": "ipython",
    "version": 3
   },
   "file_extension": ".py",
   "mimetype": "text/x-python",
   "name": "python",
   "nbconvert_exporter": "python",
   "pygments_lexer": "ipython3",
   "version": "3.10.16"
  }
 },
 "nbformat": 4,
 "nbformat_minor": 5
}
